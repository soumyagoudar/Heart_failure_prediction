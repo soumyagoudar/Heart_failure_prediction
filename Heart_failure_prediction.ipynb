{
 "cells": [
  {
   "cell_type": "markdown",
   "metadata": {},
   "source": [
    "# <h1 style=\"font-family: Trebuchet MS; padding: 20px; font-size: 25px; color: #FDD20E; text-align: center; line-height: 0.75;background-color: #F93822\"><b>Heart Failure Prediction</b><br></h1>"
   ]
  },
  {
   "cell_type": "markdown",
   "metadata": {},
   "source": [
    "<center>\n",
    "    <img src=\"https://fldscc.com/wp-content/uploads/2020/07/shutterstock_30528475.jpg\" alt=\"Heart Failure Prediction\" width=\"25%\">\n",
    "</center>\n",
    "\n",
    "### Problem Statement :\n",
    "\n",
    "With a plethora of medical data available and the rise of Data Science, a host of startups are taking up the challenge of attempting to create indicators for the forseen diseases that might be contracted! Cardiovascular diseases (CVDs) are the number 1 cause of death globally, taking an estimated 17.9 million lives each year, which accounts for 31% of all deaths worldwide. Heart failure is a common event caused by CVDs. People with cardiovascular disease or who are at high cardiovascular risk (due to the presence of one or more risk factors such as hypertension, diabetes, hyperlipidaemia or already established disease) need early detection and management wherein a machine learning model can be of great help. In this way, we try to solve automate another problem that occurs in the nature with a view to counter it and focus on to the next problem with the help of AI techniques!\n",
    "\n",
    "### Aim :\n",
    "- To classify / predict whether a patient is prone to heart failure depending on multiple attributes.\n",
    "- It is a **binary classification** with multiple numerical and categorical features.\n",
    "\n",
    "### <center>Dataset Attributes</center>\n",
    "    \n",
    "- **Age** : age of the patient [years]\n",
    "- **Sex** : sex of the patient [M: Male, F: Female]\n",
    "- **ChestPainType** : chest pain type [TA: Typical Angina, ATA: Atypical Angina, NAP: Non-Anginal Pain, ASY: Asymptomatic]\n",
    "- **RestingBP** : resting blood pressure [mm Hg]\n",
    "- **Cholesterol** : serum cholesterol [mm/dl]\n",
    "- **FastingBS** : fasting blood sugar [1: if FastingBS > 120 mg/dl, 0: otherwise]\n",
    "- **RestingECG** : resting electrocardiogram results [Normal: Normal, ST: having ST-T wave abnormality (T wave inversions and/or ST elevation or depression of > 0.05 mV), LVH: showing probable or definite left ventricular hypertrophy by Estes' criteria]\n",
    "- **MaxHR** : maximum heart rate achieved [Numeric value between 60 and 202]\n",
    "- **ExerciseAngina** : exercise-induced angina [Y: Yes, N: No]\n",
    "- **Oldpeak** : oldpeak = ST [Numeric value measured in depression]\n",
    "- **ST_Slope** : the slope of the peak exercise ST segment [Up: upsloping, Flat: flat, Down: downsloping]\n",
    "- **HeartDisease** : output class [1: heart disease, 0: Normal]"
   ]
  },
  {
   "cell_type": "markdown",
   "metadata": {},
   "source": [
    "# <center><div style=\"font-family: Trebuchet MS; background-color: #F93822; color: #FDD20E; padding: 12px; line-height: 1;\">Dataset Information</div></center>"
   ]
  },
  {
   "cell_type": "markdown",
   "metadata": {},
   "source": [
    "### Import the Necessary Libraries :"
   ]
  },
  {
   "cell_type": "code",
   "execution_count": null,
   "metadata": {
    "execution": {
     "iopub.execute_input": "2022-10-25T12:54:47.720331Z",
     "iopub.status.busy": "2022-10-25T12:54:47.718109Z",
     "iopub.status.idle": "2022-10-25T12:54:48.502285Z",
     "shell.execute_reply": "2022-10-25T12:54:48.500990Z",
     "shell.execute_reply.started": "2022-10-25T12:54:47.719992Z"
    }
   },
   "outputs": [],
   "source": [
    "import pandas as pd\n",
    "import numpy as np\n",
    "import matplotlib.pyplot as plt\n",
    "%matplotlib inline\n",
    "import seaborn as sns\n",
    "pd.options.display.float_format = '{:.2f}'.format\n",
    "import warnings\n",
    "warnings.filterwarnings('ignore')"
   ]
  },
  {
   "cell_type": "code",
   "execution_count": null,
   "metadata": {
    "execution": {
     "iopub.execute_input": "2022-10-25T12:54:48.505025Z",
     "iopub.status.busy": "2022-10-25T12:54:48.504620Z",
     "iopub.status.idle": "2022-10-25T12:54:48.557159Z",
     "shell.execute_reply": "2022-10-25T12:54:48.555811Z",
     "shell.execute_reply.started": "2022-10-25T12:54:48.504988Z"
    },
    "scrolled": true
   },
   "outputs": [],
   "source": [
    "data = pd.read_csv('../input/heart-failure-prediction/heart.csv')\n",
    "data.head()"
   ]
  },
  {
   "cell_type": "markdown",
   "metadata": {},
   "source": [
    "### Data Info :"
   ]
  },
  {
   "cell_type": "code",
   "execution_count": null,
   "metadata": {
    "execution": {
     "iopub.execute_input": "2022-10-25T12:54:48.559274Z",
     "iopub.status.busy": "2022-10-25T12:54:48.558866Z",
     "iopub.status.idle": "2022-10-25T12:54:48.568229Z",
     "shell.execute_reply": "2022-10-25T12:54:48.566661Z",
     "shell.execute_reply.started": "2022-10-25T12:54:48.559238Z"
    }
   },
   "outputs": [],
   "source": [
    "data.shape"
   ]
  },
  {
   "cell_type": "code",
   "execution_count": null,
   "metadata": {
    "execution": {
     "iopub.execute_input": "2022-10-25T12:54:48.570535Z",
     "iopub.status.busy": "2022-10-25T12:54:48.570154Z",
     "iopub.status.idle": "2022-10-25T12:54:48.580511Z",
     "shell.execute_reply": "2022-10-25T12:54:48.579178Z",
     "shell.execute_reply.started": "2022-10-25T12:54:48.570500Z"
    }
   },
   "outputs": [],
   "source": [
    "data.columns"
   ]
  },
  {
   "cell_type": "code",
   "execution_count": null,
   "metadata": {
    "execution": {
     "iopub.execute_input": "2022-10-25T12:54:48.584363Z",
     "iopub.status.busy": "2022-10-25T12:54:48.583530Z",
     "iopub.status.idle": "2022-10-25T12:54:48.612571Z",
     "shell.execute_reply": "2022-10-25T12:54:48.611623Z",
     "shell.execute_reply.started": "2022-10-25T12:54:48.584323Z"
    }
   },
   "outputs": [],
   "source": [
    "data.info()"
   ]
  },
  {
   "cell_type": "code",
   "execution_count": null,
   "metadata": {
    "execution": {
     "iopub.execute_input": "2022-10-25T12:54:48.614476Z",
     "iopub.status.busy": "2022-10-25T12:54:48.613925Z",
     "iopub.status.idle": "2022-10-25T12:54:48.931373Z",
     "shell.execute_reply": "2022-10-25T12:54:48.930011Z",
     "shell.execute_reply.started": "2022-10-25T12:54:48.614440Z"
    }
   },
   "outputs": [],
   "source": [
    "sns.heatmap(data.isnull(),cmap = 'magma',cbar = False);"
   ]
  },
  {
   "cell_type": "markdown",
   "metadata": {},
   "source": [
    "- **No null values** present in the data!"
   ]
  },
  {
   "cell_type": "code",
   "execution_count": null,
   "metadata": {
    "execution": {
     "iopub.execute_input": "2022-10-25T12:54:48.934530Z",
     "iopub.status.busy": "2022-10-25T12:54:48.933194Z",
     "iopub.status.idle": "2022-10-25T12:54:48.975531Z",
     "shell.execute_reply": "2022-10-25T12:54:48.973213Z",
     "shell.execute_reply.started": "2022-10-25T12:54:48.934470Z"
    }
   },
   "outputs": [],
   "source": [
    "data.describe().T"
   ]
  },
  {
   "cell_type": "code",
   "execution_count": null,
   "metadata": {
    "execution": {
     "iopub.execute_input": "2022-10-25T12:54:48.978319Z",
     "iopub.status.busy": "2022-10-25T12:54:48.977192Z",
     "iopub.status.idle": "2022-10-25T12:54:49.317835Z",
     "shell.execute_reply": "2022-10-25T12:54:49.316770Z",
     "shell.execute_reply.started": "2022-10-25T12:54:48.978264Z"
    }
   },
   "outputs": [],
   "source": [
    "yes = data[data['HeartDisease'] == 1].describe().T\n",
    "no = data[data['HeartDisease'] == 0].describe().T\n",
    "colors = ['#F93822','#FDD20E']\n",
    "\n",
    "fig,ax = plt.subplots(nrows = 1,ncols = 2,figsize = (5,5))\n",
    "plt.subplot(1,2,1)\n",
    "sns.heatmap(yes[['mean']],annot = True,cmap = colors,linewidths = 0.4,linecolor = 'black',cbar = False,fmt = '.2f',)\n",
    "plt.title('Heart Disease');\n",
    "\n",
    "plt.subplot(1,2,2)\n",
    "sns.heatmap(no[['mean']],annot = True,cmap = colors,linewidths = 0.4,linecolor = 'black',cbar = False,fmt = '.2f')\n",
    "plt.title('No Heart Disease');\n",
    "\n",
    "fig.tight_layout(pad = 2)"
   ]
  },
  {
   "cell_type": "markdown",
   "metadata": {},
   "source": [
    "- **Mean** values of all the features for cases of heart diseases and non-heart diseases."
   ]
  },
  {
   "cell_type": "markdown",
   "metadata": {},
   "source": [
    "# <center><div style=\"font-family: Trebuchet MS; background-color: #F93822; color: #FDD20E; padding: 12px; line-height: 1;\">Exploratory Data Analysis</div></center>"
   ]
  },
  {
   "cell_type": "markdown",
   "metadata": {},
   "source": [
    "### Dividing features into Numerical and Categorical :"
   ]
  },
  {
   "cell_type": "code",
   "execution_count": null,
   "metadata": {
    "execution": {
     "iopub.execute_input": "2022-10-25T12:54:49.321016Z",
     "iopub.status.busy": "2022-10-25T12:54:49.319560Z",
     "iopub.status.idle": "2022-10-25T12:54:49.335379Z",
     "shell.execute_reply": "2022-10-25T12:54:49.334002Z",
     "shell.execute_reply.started": "2022-10-25T12:54:49.320952Z"
    }
   },
   "outputs": [],
   "source": [
    "col = list(data.columns)\n",
    "categorical_features = []\n",
    "numerical_features = []\n",
    "for i in col:\n",
    "    if len(data[i].unique()) > 6:\n",
    "        numerical_features.append(i)\n",
    "    else:\n",
    "        categorical_features.append(i)\n",
    "\n",
    "print('Categorical Features :',*categorical_features)\n",
    "print('Numerical Features :',*numerical_features)"
   ]
  },
  {
   "cell_type": "markdown",
   "metadata": {},
   "source": [
    "- Here, categorical features are defined if the the attribute has less than 6 unique elements else it is a numerical feature.\n",
    "- Typical approach for this division of features can also be based on the datatypes of the elements of the respective attribute.\n",
    "\n",
    "**Eg :** datatype = integer, attribute = numerical feature ; datatype = string, attribute = categorical feature\n",
    "\n",
    "- For this dataset, as the number of features are less, we can manually check the dataset as well."
   ]
  },
  {
   "cell_type": "markdown",
   "metadata": {},
   "source": [
    "### Categorical Features :"
   ]
  },
  {
   "cell_type": "code",
   "execution_count": null,
   "metadata": {
    "execution": {
     "iopub.execute_input": "2022-10-25T12:54:49.337315Z",
     "iopub.status.busy": "2022-10-25T12:54:49.336814Z",
     "iopub.status.idle": "2022-10-25T12:54:49.424038Z",
     "shell.execute_reply": "2022-10-25T12:54:49.421702Z",
     "shell.execute_reply.started": "2022-10-25T12:54:49.337262Z"
    }
   },
   "outputs": [],
   "source": [
    "from sklearn.preprocessing import LabelEncoder\n",
    "le = LabelEncoder()\n",
    "df1 = data.copy(deep = True)\n",
    "\n",
    "df1['Sex'] = le.fit_transform(df1['Sex'])\n",
    "df1['ChestPainType'] = le.fit_transform(df1['ChestPainType'])\n",
    "df1['RestingECG'] = le.fit_transform(df1['RestingECG'])\n",
    "df1['ExerciseAngina'] = le.fit_transform(df1['ExerciseAngina'])\n",
    "df1['ST_Slope'] = le.fit_transform(df1['ST_Slope'])"
   ]
  },
  {
   "cell_type": "markdown",
   "metadata": {},
   "source": [
    "- Creating a deep copy of the orginal dataset and label encoding the text data of the categorical features.\n",
    "- Modifications in the original dataset will not be highlighted in this deep copy.\n",
    "- Hence, we use this deep copy of dataset that has all the features converted into numerical values for visualization & modeling purposes."
   ]
  },
  {
   "cell_type": "markdown",
   "metadata": {},
   "source": [
    "#### Distribution of Categorical Features :"
   ]
  },
  {
   "cell_type": "code",
   "execution_count": null,
   "metadata": {
    "execution": {
     "iopub.execute_input": "2022-10-25T12:54:49.426662Z",
     "iopub.status.busy": "2022-10-25T12:54:49.425955Z",
     "iopub.status.idle": "2022-10-25T12:54:50.664440Z",
     "shell.execute_reply": "2022-10-25T12:54:50.662756Z",
     "shell.execute_reply.started": "2022-10-25T12:54:49.426575Z"
    }
   },
   "outputs": [],
   "source": [
    "fig, ax = plt.subplots(nrows = 3,ncols = 2,figsize = (10,15))\n",
    "for i in range(len(categorical_features) - 1):\n",
    "    \n",
    "    plt.subplot(3,2,i+1)\n",
    "    sns.distplot(df1[categorical_features[i]],kde_kws = {'bw' : 1},color = colors[0]);\n",
    "    title = 'Distribution : ' + categorical_features[i]\n",
    "    plt.title(title)\n",
    "    \n",
    "plt.figure(figsize = (4.75,4.55))\n",
    "sns.distplot(df1[categorical_features[len(categorical_features) - 1]],kde_kws = {'bw' : 1},color = colors[0])\n",
    "title = 'Distribution : ' + categorical_features[len(categorical_features) - 1]\n",
    "plt.title(title);"
   ]
  },
  {
   "cell_type": "markdown",
   "metadata": {},
   "source": [
    "- All the categorical features are near about **Normally Distributed**."
   ]
  },
  {
   "cell_type": "markdown",
   "metadata": {},
   "source": [
    "### Numerical Features :\n",
    "\n",
    "#### Distribution of Numerical Features :"
   ]
  },
  {
   "cell_type": "code",
   "execution_count": null,
   "metadata": {
    "execution": {
     "iopub.execute_input": "2022-10-25T12:54:50.666500Z",
     "iopub.status.busy": "2022-10-25T12:54:50.666083Z",
     "iopub.status.idle": "2022-10-25T12:54:51.810244Z",
     "shell.execute_reply": "2022-10-25T12:54:51.808993Z",
     "shell.execute_reply.started": "2022-10-25T12:54:50.666464Z"
    }
   },
   "outputs": [],
   "source": [
    "fig, ax = plt.subplots(nrows = 2,ncols = 2,figsize = (10,9.75))\n",
    "for i in range(len(numerical_features) - 1):\n",
    "    plt.subplot(2,2,i+1)\n",
    "    sns.distplot(data[numerical_features[i]],color = colors[0])\n",
    "    title = 'Distribution : ' + numerical_features[i]\n",
    "    plt.title(title)\n",
    "plt.show()\n",
    "\n",
    "plt.figure(figsize = (4.75,4.55))\n",
    "sns.distplot(df1[numerical_features[len(numerical_features) - 1]],kde_kws = {'bw' : 1},color = colors[0])\n",
    "title = 'Distribution : ' + numerical_features[len(numerical_features) - 1]\n",
    "plt.title(title);"
   ]
  },
  {
   "cell_type": "markdown",
   "metadata": {},
   "source": [
    "- **Oldpeak's** data distribution is rightly skewed.\n",
    "- **Cholestrol** has a bidmodal data distribution. "
   ]
  },
  {
   "cell_type": "markdown",
   "metadata": {},
   "source": [
    "### Target Variable Visualization (HeartDisease) : "
   ]
  },
  {
   "cell_type": "code",
   "execution_count": null,
   "metadata": {
    "execution": {
     "iopub.execute_input": "2022-10-25T12:54:51.812455Z",
     "iopub.status.busy": "2022-10-25T12:54:51.811960Z",
     "iopub.status.idle": "2022-10-25T12:54:52.107686Z",
     "shell.execute_reply": "2022-10-25T12:54:52.106470Z",
     "shell.execute_reply.started": "2022-10-25T12:54:51.812415Z"
    }
   },
   "outputs": [],
   "source": [
    "l = list(data['HeartDisease'].value_counts())\n",
    "circle = [l[1] / sum(l) * 100,l[0] / sum(l) * 100]\n",
    "\n",
    "fig,ax = plt.subplots(nrows = 1,ncols = 2,figsize = (20,5))\n",
    "plt.subplot(1,2,1)\n",
    "plt.pie(circle,labels = ['No Heart Disease','Heart Disease'],autopct='%1.1f%%',startangle = 90,explode = (0.1,0),colors = colors,\n",
    "        wedgeprops = {'edgecolor' : 'black','linewidth': 1,'antialiased' : True})\n",
    "plt.title('Heart Disease %');\n",
    "\n",
    "plt.subplot(1,2,2)\n",
    "ax = sns.countplot('HeartDisease',data = data,palette = colors,edgecolor = 'black')\n",
    "for rect in ax.patches:\n",
    "    ax.text(rect.get_x() + rect.get_width() / 2, rect.get_height() + 2, rect.get_height(), horizontalalignment='center', fontsize = 11)\n",
    "ax.set_xticklabels(['No Heart Disease','Heart Disease'])\n",
    "plt.title('Cases of Heart Disease');\n",
    "plt.show()"
   ]
  },
  {
   "cell_type": "markdown",
   "metadata": {},
   "source": [
    "- The dataset is pretty much **evenly balanced!**"
   ]
  },
  {
   "cell_type": "markdown",
   "metadata": {},
   "source": [
    "### Categorical Features vs Target Variable (HeartDisease) :"
   ]
  },
  {
   "cell_type": "code",
   "execution_count": null,
   "metadata": {
    "execution": {
     "iopub.execute_input": "2022-10-25T12:54:52.115515Z",
     "iopub.status.busy": "2022-10-25T12:54:52.115091Z",
     "iopub.status.idle": "2022-10-25T12:54:53.177141Z",
     "shell.execute_reply": "2022-10-25T12:54:53.176092Z",
     "shell.execute_reply.started": "2022-10-25T12:54:52.115478Z"
    }
   },
   "outputs": [],
   "source": [
    "fig, ax = plt.subplots(nrows = 3,ncols = 2,figsize = (10,15))\n",
    "for i in range(len(categorical_features) - 1):\n",
    "    plt.subplot(3,2,i+1)\n",
    "    ax = sns.countplot(categorical_features[i],data = data,hue = \"HeartDisease\",palette = colors,edgecolor = 'black')\n",
    "    for rect in ax.patches:\n",
    "        ax.text(rect.get_x() + rect.get_width() / 2, rect.get_height() + 2, rect.get_height(), horizontalalignment='center', fontsize = 11)\n",
    "    title = categorical_features[i] + ' vs HeartDisease'\n",
    "    plt.legend(['No Heart Disease','Heart Disease'])\n",
    "    plt.title(title);"
   ]
  },
  {
   "cell_type": "markdown",
   "metadata": {},
   "source": [
    "- **Male** population has more heart disease patients than no heart disease patients. In the case of **Female** population, heart disease patients are less than no heart disease patients. \n",
    "- **ASY** type of chest pain boldly points towards major chances of heart disease.\n",
    "- **Fasting Blood Sugar** is tricky! Patients diagnosed with Fasting Blood Sugar and no Fasting Blood Sugar have significant heart disease patients. \n",
    "- **RestingECG** does not present with a clear cut category that highlights heart disease patients. All the 3 values consist of high number of heart disease patients.\n",
    "- **Exercise Induced Engina** definitely bumps the probability of being diagnosed with heart diseases.\n",
    "- With the **ST_Slope** values, **flat** slope displays a very high probability of being diagnosed with heart disease. **Down** also shows the same output but in very few data points. "
   ]
  },
  {
   "cell_type": "markdown",
   "metadata": {},
   "source": [
    "### Categorical Features vs Positive Heart Disease Cases :"
   ]
  },
  {
   "cell_type": "code",
   "execution_count": null,
   "metadata": {
    "execution": {
     "iopub.execute_input": "2022-10-25T12:54:53.178569Z",
     "iopub.status.busy": "2022-10-25T12:54:53.178237Z",
     "iopub.status.idle": "2022-10-25T12:54:53.201364Z",
     "shell.execute_reply": "2022-10-25T12:54:53.199986Z",
     "shell.execute_reply.started": "2022-10-25T12:54:53.178539Z"
    }
   },
   "outputs": [],
   "source": [
    "sex = data[data['HeartDisease'] == 1]['Sex'].value_counts()\n",
    "sex = [sex[0] / sum(sex) * 100, sex[1] / sum(sex) * 100]\n",
    "\n",
    "cp = data[data['HeartDisease'] == 1]['ChestPainType'].value_counts()\n",
    "cp = [cp[0] / sum(cp) * 100,cp[1] / sum(cp) * 100,cp[2] / sum(cp) * 100,cp[3] / sum(cp) * 100]\n",
    "\n",
    "fbs = data[data['HeartDisease'] == 1]['FastingBS'].value_counts()\n",
    "fbs = [fbs[0] / sum(fbs) * 100,fbs[1] / sum(fbs) * 100]\n",
    "\n",
    "restecg = data[data['HeartDisease'] == 1]['RestingECG'].value_counts()\n",
    "restecg = [restecg[0] / sum(restecg) * 100,restecg[1] / sum(restecg) * 100,restecg[2] / sum(restecg) * 100]\n",
    "\n",
    "exang = data[data['HeartDisease'] == 1]['ExerciseAngina'].value_counts()\n",
    "exang = [exang[0] / sum(exang) * 100,exang[1] / sum(exang) * 100]\n",
    "\n",
    "slope = data[data['HeartDisease'] == 1]['ST_Slope'].value_counts()\n",
    "slope = [slope[0] / sum(slope) * 100,slope[1] / sum(slope) * 100,slope[2] / sum(slope) * 100]"
   ]
  },
  {
   "cell_type": "code",
   "execution_count": null,
   "metadata": {
    "execution": {
     "iopub.execute_input": "2022-10-25T12:54:53.205405Z",
     "iopub.status.busy": "2022-10-25T12:54:53.204084Z",
     "iopub.status.idle": "2022-10-25T12:54:53.895705Z",
     "shell.execute_reply": "2022-10-25T12:54:53.894338Z",
     "shell.execute_reply.started": "2022-10-25T12:54:53.205363Z"
    }
   },
   "outputs": [],
   "source": [
    "ax,fig = plt.subplots(nrows = 4,ncols = 2,figsize = (15,15))\n",
    "\n",
    "plt.subplot(3,2,1)\n",
    "plt.pie(sex,labels = ['Male','Female'],autopct='%1.1f%%',startangle = 90,explode = (0.1,0),colors = colors,\n",
    "        wedgeprops = {'edgecolor' : 'black','linewidth': 1,'antialiased' : True})\n",
    "plt.title('Sex');\n",
    "\n",
    "plt.subplot(3,2,2)\n",
    "plt.pie(cp,labels = ['ASY', 'NAP', 'ATA', 'TA'],autopct='%1.1f%%',startangle = 90,explode = (0,0.1,0.1,0.1),\n",
    "        wedgeprops = {'edgecolor' : 'black','linewidth': 1,'antialiased' : True})\n",
    "plt.title('ChestPainType');\n",
    "\n",
    "plt.subplot(3,2,3)\n",
    "plt.pie(fbs,labels = ['FBS < 120 mg/dl','FBS > 120 mg/dl'],autopct='%1.1f%%',startangle = 90,explode = (0.1,0),colors = colors,\n",
    "        wedgeprops = {'edgecolor' : 'black','linewidth': 1,'antialiased' : True})\n",
    "plt.title('FastingBS');\n",
    "\n",
    "plt.subplot(3,2,4)\n",
    "plt.pie(restecg,labels = ['Normal','ST','LVH'],autopct='%1.1f%%',startangle = 90,explode = (0,0.1,0.1),\n",
    "        wedgeprops = {'edgecolor' : 'black','linewidth': 1,'antialiased' : True})\n",
    "plt.title('RestingECG');\n",
    "\n",
    "plt.subplot(3,2,5)\n",
    "plt.pie(exang,labels = ['Angina','No Angina'],autopct='%1.1f%%',startangle = 90,explode = (0.1,0),colors = colors,\n",
    "        wedgeprops = {'edgecolor' : 'black','linewidth': 1,'antialiased' : True})\n",
    "plt.title('ExerciseAngina');\n",
    "\n",
    "plt.subplot(3,2,6)\n",
    "plt.pie(slope,labels = ['Flat','Up','Down'],autopct='%1.1f%%',startangle = 90,explode = (0,0.1,0.1),\n",
    "        wedgeprops = {'edgecolor' : 'black','linewidth': 1,'antialiased' : True})\n",
    "plt.title('ST_Slope');"
   ]
  },
  {
   "cell_type": "markdown",
   "metadata": {},
   "source": [
    "- Out of all the heart disease patients, a staggering 90% patients are **male**.\n",
    "- When it comes to the type of chest pain, **ASY** type holds the majority with 77% that lead to heart diseases.\n",
    "- **Fasting Blood Sugar** level < 120 mg/dl displays high chances of heart diseases.\n",
    "- For **RestingECG**, **Normal** level accounts for 56% chances of heart diseases than **LVH** and **ST** levels.\n",
    "- Detection of **Exercise Induced Angina** also points towards heart diseases.\n",
    "- When it comes to **ST_Slope** readings, **Flat** level holds a massive chunk with 75% that may assist in detecting underlying heart problems. "
   ]
  },
  {
   "cell_type": "markdown",
   "metadata": {},
   "source": [
    "### Numerical Features vs Target Variable (HeartDisease) :"
   ]
  },
  {
   "cell_type": "code",
   "execution_count": null,
   "metadata": {
    "execution": {
     "iopub.execute_input": "2022-10-25T12:54:53.898064Z",
     "iopub.status.busy": "2022-10-25T12:54:53.897556Z",
     "iopub.status.idle": "2022-10-25T12:55:02.043794Z",
     "shell.execute_reply": "2022-10-25T12:55:02.042529Z",
     "shell.execute_reply.started": "2022-10-25T12:54:53.898005Z"
    }
   },
   "outputs": [],
   "source": [
    "fig, ax = plt.subplots(nrows = 5,ncols = 1,figsize = (15,30))\n",
    "for i in range(len(numerical_features)):\n",
    "    plt.subplot(5,1,i+1)\n",
    "    sns.countplot(numerical_features[i],data = data,hue = \"HeartDisease\",palette = colors, edgecolor = 'black')\n",
    "    title = numerical_features[i] + ' vs Heart Disease'\n",
    "    plt.legend(['No Heart Disease','Heart Disease'])\n",
    "    plt.title(title);"
   ]
  },
  {
   "cell_type": "markdown",
   "metadata": {},
   "source": [
    "- Because of too many unique data points in the above features, it is difficult to gain any type of insight. Thus, we will convert these numerical features,except age, into categorical features for understandable visualization and gaining insights purposes. \n",
    "- Thus, we scale the individual values of these features. This brings the varied data points to a constant value that represents a range of values.\n",
    "- Here, we divide the data points of the numerical features by 5 or 10 and assign its quotient value as the representative constant for that data point. The scaling constants of 5 & 10 are decided by looking into the data & intuition. "
   ]
  },
  {
   "cell_type": "code",
   "execution_count": null,
   "metadata": {
    "execution": {
     "iopub.execute_input": "2022-10-25T12:55:02.046227Z",
     "iopub.status.busy": "2022-10-25T12:55:02.045712Z",
     "iopub.status.idle": "2022-10-25T12:55:02.059644Z",
     "shell.execute_reply": "2022-10-25T12:55:02.058575Z",
     "shell.execute_reply.started": "2022-10-25T12:55:02.046180Z"
    }
   },
   "outputs": [],
   "source": [
    "data['RestingBP_Group'] = [ int(i / 5) for i in data['RestingBP']]\n",
    "data['Cholesterol_Group'] = [ int(i / 10) for i in data['Cholesterol']]\n",
    "data['MaxHR_Group'] = [ int(i / 5) for i in data['MaxHR']]\n",
    "data['Oldpeak_Group'] = [ int( (i*10) / 5) for i in data['Oldpeak']]"
   ]
  },
  {
   "cell_type": "code",
   "execution_count": null,
   "metadata": {
    "execution": {
     "iopub.execute_input": "2022-10-25T12:55:02.061952Z",
     "iopub.status.busy": "2022-10-25T12:55:02.061291Z",
     "iopub.status.idle": "2022-10-25T12:55:03.994636Z",
     "shell.execute_reply": "2022-10-25T12:55:03.993618Z",
     "shell.execute_reply.started": "2022-10-25T12:55:02.061886Z"
    }
   },
   "outputs": [],
   "source": [
    "fig, ax = plt.subplots(nrows = 4,ncols = 1,figsize = (10,25))\n",
    "group_numerical_features = [i + '_Group' for i in numerical_features[1:]]\n",
    "for i in range(len(group_numerical_features)):\n",
    "    plt.subplot(4,1,i+1)\n",
    "    sns.countplot(group_numerical_features[i],data = data,hue = \"HeartDisease\",palette = colors, edgecolor = 'black')\n",
    "    plt.legend(['No Heart Disease', 'Heart Disease'])\n",
    "    title = group_numerical_features[i] + ' vs Heart Disease'\n",
    "    plt.title(title);"
   ]
  },
  {
   "cell_type": "markdown",
   "metadata": {},
   "source": [
    "- From the **RestingBP** group data, **95** (19x5) - **170** (34x5) readings are most prone to be detected with heart diseases.\n",
    "- **Cholesterol** levels between **160** (16x10) - **340** (34x10) are highly susceptible to heart diseases.\n",
    "- For the **MaxHR** readings, heart diseases are found throughout the data but **70** (14x5) - **180** (36x5) values has detected many cases. \n",
    "- **Oldpeak** values also display heart diseases throughout. **0** (0x5/10) - **4** (8x5/10) slope values display high probability to be diagnosed with heart diseases."
   ]
  },
  {
   "cell_type": "markdown",
   "metadata": {},
   "source": [
    "### Numerical features vs Categorical features w.r.t Target variable(HeartDisease) :"
   ]
  },
  {
   "cell_type": "markdown",
   "metadata": {},
   "source": [
    "#### Sex vs Numerical Features :"
   ]
  },
  {
   "cell_type": "code",
   "execution_count": null,
   "metadata": {
    "execution": {
     "iopub.execute_input": "2022-10-25T12:55:03.997096Z",
     "iopub.status.busy": "2022-10-25T12:55:03.996030Z",
     "iopub.status.idle": "2022-10-25T12:55:05.167030Z",
     "shell.execute_reply": "2022-10-25T12:55:05.165980Z",
     "shell.execute_reply.started": "2022-10-25T12:55:03.997050Z"
    }
   },
   "outputs": [],
   "source": [
    "fig,ax = plt.subplots(nrows = 1,ncols = 3,figsize = (15,5))\n",
    "for i in range(3):\n",
    "    plt.subplot(1,3,i+1)\n",
    "    sns.stripplot(x = 'Sex',y = numerical_features[i],data = data,hue = 'HeartDisease',palette = colors);\n",
    "    plt.legend(['No Heart Disease', 'Heart Disease'])\n",
    "    title = numerical_features[i] + ' vs Sex' \n",
    "    plt.title(title);\n",
    "\n",
    "fig,ax = plt.subplots(nrows = 1,ncols = 2,figsize = (15,5))\n",
    "for i in [-1,-2]:\n",
    "    plt.subplot(1,2,-i)\n",
    "    sns.stripplot(x = 'Sex',y = numerical_features[i],data = data,hue = 'HeartDisease',palette = colors);\n",
    "    plt.legend(['No Heart Disease', 'Heart Disease'])\n",
    "    title = numerical_features[i] + ' vs Sex' \n",
    "    plt.title(title);"
   ]
  },
  {
   "cell_type": "markdown",
   "metadata": {},
   "source": [
    "- **Male** population displays heart diseases at near about all the values of the numerical features. Above the age of 50, positive old peak values and maximum heart rate below 140, heart diseases in male population become dense.\n",
    "- **Female** population data points are very less as compared to **male** population data points. Hence, we cannot point to specific ranges or values that display cases of heart diseases. "
   ]
  },
  {
   "cell_type": "markdown",
   "metadata": {},
   "source": [
    "#### ChestPainType vs Numerical Features :"
   ]
  },
  {
   "cell_type": "code",
   "execution_count": null,
   "metadata": {
    "execution": {
     "iopub.execute_input": "2022-10-25T12:55:05.169094Z",
     "iopub.status.busy": "2022-10-25T12:55:05.168642Z",
     "iopub.status.idle": "2022-10-25T12:55:06.951133Z",
     "shell.execute_reply": "2022-10-25T12:55:06.949853Z",
     "shell.execute_reply.started": "2022-10-25T12:55:05.169055Z"
    }
   },
   "outputs": [],
   "source": [
    "fig,ax = plt.subplots(nrows = 1,ncols = 3,figsize = (15,5))\n",
    "for i in range(3):\n",
    "    plt.subplot(1,3,i+1)\n",
    "    sns.stripplot(x = 'ChestPainType',y = numerical_features[i],data = data,hue = 'HeartDisease',palette = colors);\n",
    "    plt.legend(['No Heart Disease', 'Heart Disease'])\n",
    "    title = numerical_features[i] + ' vs ChestPainType'\n",
    "    plt.title(title);\n",
    "\n",
    "fig,ax = plt.subplots(nrows = 1,ncols = 2,figsize = (15,5))\n",
    "for i in [-1,-2]:\n",
    "    plt.subplot(1,2,-i)\n",
    "    sns.stripplot(x = 'ChestPainType',y = numerical_features[i],data = data,hue = 'HeartDisease',palette = colors);\n",
    "    plt.legend(['No Heart Disease', 'Heart Disease'])\n",
    "    title = numerical_features[i] + ' vs ChestPainType' \n",
    "    plt.title(title);"
   ]
  },
  {
   "cell_type": "markdown",
   "metadata": {},
   "source": [
    "- **ASY** type of chest pain dominates other types of chest pain in all the numerical features by a lot."
   ]
  },
  {
   "cell_type": "markdown",
   "metadata": {},
   "source": [
    "#### FastingBS vs Numerical features :"
   ]
  },
  {
   "cell_type": "code",
   "execution_count": null,
   "metadata": {
    "execution": {
     "iopub.execute_input": "2022-10-25T12:55:06.954256Z",
     "iopub.status.busy": "2022-10-25T12:55:06.953175Z",
     "iopub.status.idle": "2022-10-25T12:55:08.053525Z",
     "shell.execute_reply": "2022-10-25T12:55:08.052208Z",
     "shell.execute_reply.started": "2022-10-25T12:55:06.954202Z"
    }
   },
   "outputs": [],
   "source": [
    "fig,ax = plt.subplots(nrows = 1,ncols = 3,figsize = (15,5))\n",
    "for i in range(3):\n",
    "    plt.subplot(1,3,i+1)\n",
    "    sns.stripplot(x = 'FastingBS',y = numerical_features[i],data = data,hue = 'HeartDisease',palette = colors);\n",
    "    plt.legend(['No Heart Disease', 'Heart Disease'])\n",
    "    title = numerical_features[i] + ' vs Fasting Blood Sugar' \n",
    "    plt.title(title);\n",
    "\n",
    "fig,ax = plt.subplots(nrows = 1,ncols = 2,figsize = (15,5))\n",
    "for i in [-1,-2]:\n",
    "    plt.subplot(1,2,-i)\n",
    "    sns.stripplot(x = 'FastingBS',y = numerical_features[i],data = data,hue = 'HeartDisease',palette = colors);\n",
    "    plt.legend(['No Heart Disease', 'Heart Disease'])\n",
    "    title = numerical_features[i] + ' vs Fasting Blood Sugar' \n",
    "    plt.title(title);"
   ]
  },
  {
   "cell_type": "markdown",
   "metadata": {},
   "source": [
    "- Above the **age** 50, heart diseases are found throughout the data irrespective of the patient being diagnosed with Fasting Blood Sugar or not.\n",
    "- **Fasting Blood Sugar** with **Resting BP** over 100 has displayed more cases of heart diseases than patients with no fasting blood sugar.\n",
    "- **Cholesterol** with **Fasting Blood Sugar** does not seem to have an effect in understanding reason behind heart diseases.\n",
    "- Patients that have not been found positive with **Fasting Blood Sugar** but have maximum heart rate below 130 are more prone to heart diseases."
   ]
  },
  {
   "cell_type": "markdown",
   "metadata": {},
   "source": [
    "#### RestingECG vs Numerical Features :"
   ]
  },
  {
   "cell_type": "code",
   "execution_count": null,
   "metadata": {
    "execution": {
     "iopub.execute_input": "2022-10-25T12:55:08.056278Z",
     "iopub.status.busy": "2022-10-25T12:55:08.055433Z",
     "iopub.status.idle": "2022-10-25T12:55:09.289200Z",
     "shell.execute_reply": "2022-10-25T12:55:09.287951Z",
     "shell.execute_reply.started": "2022-10-25T12:55:08.056217Z"
    }
   },
   "outputs": [],
   "source": [
    "fig,ax = plt.subplots(nrows = 1,ncols = 3,figsize = (15,5))\n",
    "for i in range(3):\n",
    "    plt.subplot(1,3,i+1)\n",
    "    sns.stripplot(x = 'RestingECG',y = numerical_features[i],data = data,hue = 'HeartDisease',palette = colors);\n",
    "    plt.legend(['No Heart Disease', 'Heart Disease'])\n",
    "    title = numerical_features[i] + ' vs RestingECG' \n",
    "    plt.title(title);\n",
    "\n",
    "fig,ax = plt.subplots(nrows = 1,ncols = 2,figsize = (15,5))\n",
    "for i in [-1,-2]:\n",
    "    plt.subplot(1,2,-i)\n",
    "    sns.stripplot(x = 'RestingECG',y = numerical_features[i],data = data,hue = 'HeartDisease',palette = colors);\n",
    "    plt.legend(['No Heart Disease', 'Heart Disease'])\n",
    "    title = numerical_features[i] + ' vs RestingECG'\n",
    "    plt.title(title);"
   ]
  },
  {
   "cell_type": "markdown",
   "metadata": {},
   "source": [
    "- Heart diseases with **RestingECG** values of **Normal**, **ST** and **LVH** are detected starting from 30,40 & 40 respectively. Patients above the age of 50 are more prone than anyother ages irrespective of **RestingECG** values.\n",
    "- Heart diseases are found consistently throughout any values of **RestingBP** and **RestingECG**.\n",
    "- **Cholesterol** values between 200 - 300 coupled with **ST** value of **RestingECG** display a patch of patients suffering from heart diseases. \n",
    "- For **maximum Heart Rate** values, heart diseases are detected in dense below 140 points and **Normal** RestingECG. **ST** & **LVH** throughout the maximum heart rate values display heart disease cases."
   ]
  },
  {
   "cell_type": "markdown",
   "metadata": {},
   "source": [
    "#### ExerciseAngina vs Numerical Features :"
   ]
  },
  {
   "cell_type": "code",
   "execution_count": null,
   "metadata": {
    "execution": {
     "iopub.execute_input": "2022-10-25T12:55:09.291145Z",
     "iopub.status.busy": "2022-10-25T12:55:09.290762Z",
     "iopub.status.idle": "2022-10-25T12:55:10.396057Z",
     "shell.execute_reply": "2022-10-25T12:55:10.394652Z",
     "shell.execute_reply.started": "2022-10-25T12:55:09.291109Z"
    }
   },
   "outputs": [],
   "source": [
    "fig,ax = plt.subplots(nrows = 1,ncols = 3,figsize = (15,5))\n",
    "for i in range(3):\n",
    "    plt.subplot(1,3,i+1)\n",
    "    sns.stripplot(x = 'ExerciseAngina',y = numerical_features[i],data = data,hue = 'HeartDisease',palette = colors);\n",
    "    plt.legend(['No Heart Disease', 'Heart Disease'])\n",
    "    title = numerical_features[i] + ' vs ExerciseAngina'\n",
    "    plt.title(title);\n",
    "\n",
    "fig,ax = plt.subplots(nrows = 1,ncols = 2,figsize = (15,5))\n",
    "for i in [-1,-2]:\n",
    "    plt.subplot(1,2,-i)\n",
    "    sns.stripplot(x = 'ExerciseAngina',y = numerical_features[i],data = data,hue = 'HeartDisease',palette = colors);\n",
    "    plt.legend(['No Heart Disease', 'Heart Disease'])\n",
    "    title = numerical_features[i] + ' vs ExerciseAngina' \n",
    "    plt.title(title);"
   ]
  },
  {
   "cell_type": "markdown",
   "metadata": {},
   "source": [
    "- A crsytal clear observation can be made about the relationship between **heart disease** case and **Exercise induced Angina**. A positive correlation between the 2 features can be concluded throughout all the numerical features. "
   ]
  },
  {
   "cell_type": "markdown",
   "metadata": {},
   "source": [
    "#### ST_Slope vs Numerical Features :"
   ]
  },
  {
   "cell_type": "code",
   "execution_count": null,
   "metadata": {
    "execution": {
     "iopub.execute_input": "2022-10-25T12:55:10.398064Z",
     "iopub.status.busy": "2022-10-25T12:55:10.397655Z",
     "iopub.status.idle": "2022-10-25T12:55:11.904665Z",
     "shell.execute_reply": "2022-10-25T12:55:11.903422Z",
     "shell.execute_reply.started": "2022-10-25T12:55:10.398029Z"
    }
   },
   "outputs": [],
   "source": [
    "fig,ax = plt.subplots(nrows = 1,ncols = 3,figsize = (15,5))\n",
    "for i in range(3):\n",
    "    plt.subplot(1,3,i+1)\n",
    "    sns.stripplot(x = 'ST_Slope',y = numerical_features[i],data = data,hue = 'HeartDisease',palette = colors);\n",
    "    plt.legend(['No Heart Disease', 'Heart Disease'])\n",
    "    title = numerical_features[i] + ' vs ST_Slope' \n",
    "    plt.title(title);\n",
    "\n",
    "fig,ax = plt.subplots(nrows = 1,ncols = 2,figsize = (15,5))\n",
    "for i in [-1,-2]:\n",
    "    plt.subplot(1,2,-i)\n",
    "    sns.stripplot(x = 'ST_Slope',y = numerical_features[i],data = data,hue = 'HeartDisease',palette = colors);\n",
    "    plt.legend(['No Heart Disease', 'Heart Disease'])\n",
    "    title = numerical_features[i] + ' vs ST_Slope'\n",
    "    plt.title(title);"
   ]
  },
  {
   "cell_type": "markdown",
   "metadata": {},
   "source": [
    "- Another crystal clear positive observation can be made about the positive correlation between **ST_Slope** value and **Heart Disease** cases. \n",
    "- **Flat**, **Down** and **Up** in that order display high, middle and low probability of being diagnosed with heart diseases respectively."
   ]
  },
  {
   "cell_type": "markdown",
   "metadata": {},
   "source": [
    "### Numerical features vs Numerical features w.r.t Target variable(HeartDisease) :"
   ]
  },
  {
   "cell_type": "code",
   "execution_count": null,
   "metadata": {
    "execution": {
     "iopub.execute_input": "2022-10-25T12:55:11.906957Z",
     "iopub.status.busy": "2022-10-25T12:55:11.906501Z",
     "iopub.status.idle": "2022-10-25T12:55:14.329216Z",
     "shell.execute_reply": "2022-10-25T12:55:14.328220Z",
     "shell.execute_reply.started": "2022-10-25T12:55:11.906890Z"
    }
   },
   "outputs": [],
   "source": [
    "a = 0\n",
    "fig,ax = plt.subplots(nrows = 5,ncols = 2,figsize = (15,25))\n",
    "for i in range(len(numerical_features)):\n",
    "    for j in range(len(numerical_features)):\n",
    "        if i != j and j > i:\n",
    "            a += 1\n",
    "            plt.subplot(5,2,a)\n",
    "            sns.scatterplot(x = numerical_features[i],y = numerical_features[j],data = data,hue = 'HeartDisease',palette = colors, edgecolor = 'black');\n",
    "            plt.legend(['No Heart Disease', 'Heart Disease'])\n",
    "            title = numerical_features[i] + ' vs ' + numerical_features[j]\n",
    "            plt.title(title)"
   ]
  },
  {
   "cell_type": "markdown",
   "metadata": {},
   "source": [
    "- For **age** 50+, **RestingBP** between 100 - 175, **Cholesterol** level of 200 - 300,**Max Heart Rate** below 160 and positive **oldpeak** values displays high cases of heart disease.\n",
    "- For **RestingBP** values 100 - 175, highlights too many heart disease patients for all the features.\n",
    "- **Cholesterol** values 200 - 300 dominates the heart disease cases.\n",
    "- Similarly, **Max Heart Rate** values below 140 has high probability of being diagnosed with heart diseases."
   ]
  },
  {
   "cell_type": "markdown",
   "metadata": {},
   "source": [
    "# <center><div style=\"font-family: Trebuchet MS; background-color: #F93822; color: #FDD20E; padding: 12px; line-height: 1;\">Summary of EDA</div></center>\n",
    "\n",
    "### Order / Values of features for positive cases of heart disease :\n",
    "\n",
    "- **Categorical Features (Order) :**\n",
    "    - Sex : Male > Female\n",
    "    - ChestPainType : ASY > NAP > ATA > TA\n",
    "    - FastingBS : ( FBS < 120 mg/dl ) > ( FBS > 120 mg/dl)\n",
    "    - RestingECG : Normal > ST > LVH\n",
    "    - ExerciseAngina : Angina > No Angina\n",
    "    - ST_Slope : Flat > Up > Down\n",
    " \n",
    "- **Numerical Features (Range) :**\n",
    "    - Age : 50+\n",
    "    - RestingBP : 95 - 170 \n",
    "    - Cholesterol : 160 - 340\n",
    "    - MaxHR : 70 - 180\n",
    "    - Oldpeak : 0 - 4\n",
    "    \n",
    "    \n",
    "**Now that we have understood the typical values of the features, we move on to the next step where we select the appropriate features for modeling!**"
   ]
  },
  {
   "cell_type": "markdown",
   "metadata": {},
   "source": [
    "# <center><div style=\"font-family: Trebuchet MS; background-color: #F93822; color: #FDD20E; padding: 12px; line-height: 1;\">Feature Engineering</div></center>"
   ]
  },
  {
   "cell_type": "markdown",
   "metadata": {},
   "source": [
    "### Data Scaling :"
   ]
  },
  {
   "cell_type": "code",
   "execution_count": null,
   "metadata": {
    "execution": {
     "iopub.execute_input": "2022-10-25T12:55:14.331084Z",
     "iopub.status.busy": "2022-10-25T12:55:14.330447Z",
     "iopub.status.idle": "2022-10-25T12:55:14.370181Z",
     "shell.execute_reply": "2022-10-25T12:55:14.368993Z",
     "shell.execute_reply.started": "2022-10-25T12:55:14.331047Z"
    }
   },
   "outputs": [],
   "source": [
    "from sklearn.preprocessing import MinMaxScaler,StandardScaler\n",
    "mms = MinMaxScaler() # Normalization\n",
    "ss = StandardScaler() # Standardization\n",
    "\n",
    "df1['Oldpeak'] = mms.fit_transform(df1[['Oldpeak']])\n",
    "df1['Age'] = ss.fit_transform(df1[['Age']])\n",
    "df1['RestingBP'] = ss.fit_transform(df1[['RestingBP']])\n",
    "df1['Cholesterol'] = ss.fit_transform(df1[['Cholesterol']])\n",
    "df1['MaxHR'] = ss.fit_transform(df1[['MaxHR']])\n",
    "df1.head()"
   ]
  },
  {
   "cell_type": "markdown",
   "metadata": {},
   "source": [
    "- Machine learning model does not understand the units of the values of the features. It treats the input just as a simple number but does not understand the true meaning of that value. Thus, it becomes necessary to scale the data.\n",
    "\n",
    "**Eg :** Age = Years; FastingBS = mg / dl \n",
    "\n",
    "- We have 2 options for data scaling : 1) **Normalization** 2) **Standardization**. As most of the algorithms assume the data to be normally (Gaussian) distributed, **Normalization** is done for features whose data does not display normal distribution and **standardization** is carried out for features that are normally distributed where their values are huge or very small as compared to other features.\n",
    "\n",
    "\n",
    "- **Normalization** : **Oldpeak** feature is normalized as it had displayed a right skewed data distribution.\n",
    "- **Standardizarion** : **Age**, **RestingBP**, **Cholesterol** and **MaxHR** features are scaled down because these features are normally distributed."
   ]
  },
  {
   "cell_type": "markdown",
   "metadata": {},
   "source": [
    "### Correlation Matrix :"
   ]
  },
  {
   "cell_type": "code",
   "execution_count": null,
   "metadata": {
    "execution": {
     "iopub.execute_input": "2022-10-25T12:55:14.372148Z",
     "iopub.status.busy": "2022-10-25T12:55:14.371771Z",
     "iopub.status.idle": "2022-10-25T12:55:15.294314Z",
     "shell.execute_reply": "2022-10-25T12:55:15.293339Z",
     "shell.execute_reply.started": "2022-10-25T12:55:14.372114Z"
    }
   },
   "outputs": [],
   "source": [
    "plt.figure(figsize = (20,5))\n",
    "sns.heatmap(df1.corr(),cmap = colors,annot = True);"
   ]
  },
  {
   "cell_type": "markdown",
   "metadata": {},
   "source": [
    "- It is a huge matrix with too many features. We will check the correlation only with respect to **HeartDisease**. "
   ]
  },
  {
   "cell_type": "code",
   "execution_count": null,
   "metadata": {
    "execution": {
     "iopub.execute_input": "2022-10-25T12:55:15.296191Z",
     "iopub.status.busy": "2022-10-25T12:55:15.295772Z",
     "iopub.status.idle": "2022-10-25T12:55:15.646968Z",
     "shell.execute_reply": "2022-10-25T12:55:15.645549Z",
     "shell.execute_reply.started": "2022-10-25T12:55:15.296154Z"
    }
   },
   "outputs": [],
   "source": [
    "corr = df1.corrwith(df1['HeartDisease']).sort_values(ascending = False).to_frame()\n",
    "corr.columns = ['Correlations']\n",
    "plt.subplots(figsize = (5,5))\n",
    "sns.heatmap(corr,annot = True,cmap = colors,linewidths = 0.4,linecolor = 'black');\n",
    "plt.title('Correlation w.r.t HeartDisease');"
   ]
  },
  {
   "cell_type": "markdown",
   "metadata": {},
   "source": [
    "- Except for **RestingBP** and **RestingECG**, everyone displays a positive or negative relationship with **HeartDisease**."
   ]
  },
  {
   "cell_type": "markdown",
   "metadata": {},
   "source": [
    "### Feature Selection for Categorical Features :"
   ]
  },
  {
   "cell_type": "markdown",
   "metadata": {},
   "source": [
    "#### Chi Squared Test :"
   ]
  },
  {
   "cell_type": "code",
   "execution_count": null,
   "metadata": {
    "execution": {
     "iopub.execute_input": "2022-10-25T12:55:15.650754Z",
     "iopub.status.busy": "2022-10-25T12:55:15.650186Z",
     "iopub.status.idle": "2022-10-25T12:55:15.866197Z",
     "shell.execute_reply": "2022-10-25T12:55:15.864882Z",
     "shell.execute_reply.started": "2022-10-25T12:55:15.650692Z"
    }
   },
   "outputs": [],
   "source": [
    "from sklearn.feature_selection import SelectKBest\n",
    "from sklearn.feature_selection import chi2"
   ]
  },
  {
   "cell_type": "code",
   "execution_count": null,
   "metadata": {
    "execution": {
     "iopub.execute_input": "2022-10-25T12:55:15.868652Z",
     "iopub.status.busy": "2022-10-25T12:55:15.867990Z",
     "iopub.status.idle": "2022-10-25T12:55:16.168029Z",
     "shell.execute_reply": "2022-10-25T12:55:16.166176Z",
     "shell.execute_reply.started": "2022-10-25T12:55:15.868606Z"
    }
   },
   "outputs": [],
   "source": [
    "features = df1.loc[:,categorical_features[:-1]]\n",
    "target = df1.loc[:,categorical_features[-1]]\n",
    "\n",
    "best_features = SelectKBest(score_func = chi2,k = 'all')\n",
    "fit = best_features.fit(features,target)\n",
    "\n",
    "featureScores = pd.DataFrame(data = fit.scores_,index = list(features.columns),columns = ['Chi Squared Score']) \n",
    "\n",
    "plt.subplots(figsize = (5,5))\n",
    "sns.heatmap(featureScores.sort_values(ascending = False,by = 'Chi Squared Score'),annot = True,cmap = colors,linewidths = 0.4,linecolor = 'black',fmt = '.2f');\n",
    "plt.title('Selection of Categorical Features');"
   ]
  },
  {
   "cell_type": "markdown",
   "metadata": {},
   "source": [
    "- Except **RestingECG**, all the remaining categorical features are pretty important for predicting heart diseases."
   ]
  },
  {
   "cell_type": "markdown",
   "metadata": {},
   "source": [
    "### Feature Selection for Numerical Features :"
   ]
  },
  {
   "cell_type": "markdown",
   "metadata": {},
   "source": [
    "#### ANOVA Test :"
   ]
  },
  {
   "cell_type": "code",
   "execution_count": null,
   "metadata": {
    "execution": {
     "iopub.execute_input": "2022-10-25T12:55:16.170449Z",
     "iopub.status.busy": "2022-10-25T12:55:16.169767Z",
     "iopub.status.idle": "2022-10-25T12:55:16.675505Z",
     "shell.execute_reply": "2022-10-25T12:55:16.674005Z",
     "shell.execute_reply.started": "2022-10-25T12:55:16.170392Z"
    }
   },
   "outputs": [],
   "source": [
    "from sklearn.feature_selection import f_classif\n",
    "\n",
    "features = df1.loc[:,numerical_features]\n",
    "target = df1.loc[:,categorical_features[-1]]\n",
    "\n",
    "best_features = SelectKBest(score_func = f_classif,k = 'all')\n",
    "fit = best_features.fit(features,target)\n",
    "\n",
    "featureScores = pd.DataFrame(data = fit.scores_,index = list(features.columns),columns = ['ANOVA Score']) \n",
    "\n",
    "plt.subplots(figsize = (5,5))\n",
    "sns.heatmap(featureScores.sort_values(ascending = False,by = 'ANOVA Score'),annot = True,cmap = colors,linewidths = 0.4,linecolor = 'black',fmt = '.2f');\n",
    "plt.title('Selection of Numerical Features');"
   ]
  },
  {
   "cell_type": "markdown",
   "metadata": {},
   "source": [
    "- We will leave out **RestingBP** from the modeling part and take the remaining features."
   ]
  },
  {
   "cell_type": "markdown",
   "metadata": {},
   "source": [
    "# <center><div style=\"font-family: Trebuchet MS; background-color: #F93822; color: #FDD20E; padding: 12px; line-height: 1;\">Modeling</div></center>"
   ]
  },
  {
   "cell_type": "code",
   "execution_count": null,
   "metadata": {
    "execution": {
     "iopub.execute_input": "2022-10-25T12:55:16.677410Z",
     "iopub.status.busy": "2022-10-25T12:55:16.676967Z",
     "iopub.status.idle": "2022-10-25T12:55:16.685396Z",
     "shell.execute_reply": "2022-10-25T12:55:16.684001Z",
     "shell.execute_reply.started": "2022-10-25T12:55:16.677377Z"
    }
   },
   "outputs": [],
   "source": [
    "from sklearn.model_selection import train_test_split\n",
    "from sklearn.metrics import confusion_matrix\n",
    "from sklearn.metrics import roc_auc_score\n",
    "from sklearn.metrics import plot_roc_curve\n",
    "from sklearn.model_selection import cross_val_score\n",
    "from sklearn.model_selection import GridSearchCV\n",
    "from sklearn.metrics import classification_report\n",
    "from sklearn.metrics import accuracy_score\n",
    "from sklearn.model_selection import RepeatedStratifiedKFold\n",
    "from sklearn.metrics import precision_recall_curve"
   ]
  },
  {
   "cell_type": "code",
   "execution_count": null,
   "metadata": {
    "execution": {
     "iopub.execute_input": "2022-10-25T12:55:16.687777Z",
     "iopub.status.busy": "2022-10-25T12:55:16.687234Z",
     "iopub.status.idle": "2022-10-25T12:55:16.698293Z",
     "shell.execute_reply": "2022-10-25T12:55:16.697156Z",
     "shell.execute_reply.started": "2022-10-25T12:55:16.687729Z"
    }
   },
   "outputs": [],
   "source": [
    "features = df1[df1.columns.drop(['HeartDisease','RestingBP','RestingECG'])].values\n",
    "target = df1['HeartDisease'].values\n",
    "x_train, x_test, y_train, y_test = train_test_split(features, target, test_size = 0.20, random_state = 2)"
   ]
  },
  {
   "cell_type": "markdown",
   "metadata": {},
   "source": [
    "- Selecting the features from the above conducted tests and splitting the data into **80 - 20 train - test** groups."
   ]
  },
  {
   "cell_type": "code",
   "execution_count": null,
   "metadata": {
    "execution": {
     "iopub.execute_input": "2022-10-25T12:55:16.700405Z",
     "iopub.status.busy": "2022-10-25T12:55:16.700023Z",
     "iopub.status.idle": "2022-10-25T12:55:16.712168Z",
     "shell.execute_reply": "2022-10-25T12:55:16.710804Z",
     "shell.execute_reply.started": "2022-10-25T12:55:16.700372Z"
    }
   },
   "outputs": [],
   "source": [
    "def model(classifier):\n",
    "    \n",
    "    classifier.fit(x_train,y_train)\n",
    "    prediction = classifier.predict(x_test)\n",
    "    cv = RepeatedStratifiedKFold(n_splits = 10,n_repeats = 3,random_state = 1)\n",
    "    print(\"Accuracy : \",'{0:.2%}'.format(accuracy_score(y_test,prediction)))\n",
    "    print(\"Cross Validation Score : \",'{0:.2%}'.format(cross_val_score(classifier,x_train,y_train,cv = cv,scoring = 'roc_auc').mean()))\n",
    "    print(\"ROC_AUC Score : \",'{0:.2%}'.format(roc_auc_score(y_test,prediction)))\n",
    "    plot_roc_curve(classifier, x_test,y_test)\n",
    "    plt.title('ROC_AUC_Plot')\n",
    "    plt.show()\n",
    "\n",
    "def model_evaluation(classifier):\n",
    "    \n",
    "    # Confusion Matrix\n",
    "    cm = confusion_matrix(y_test,classifier.predict(x_test))\n",
    "    names = ['True Neg','False Pos','False Neg','True Pos']\n",
    "    counts = [value for value in cm.flatten()]\n",
    "    percentages = ['{0:.2%}'.format(value) for value in cm.flatten()/np.sum(cm)]\n",
    "    labels = [f'{v1}\\n{v2}\\n{v3}' for v1, v2, v3 in zip(names,counts,percentages)]\n",
    "    labels = np.asarray(labels).reshape(2,2)\n",
    "    sns.heatmap(cm,annot = labels,cmap = colors,fmt ='')\n",
    "    \n",
    "    # Classification Report\n",
    "    print(classification_report(y_test,classifier.predict(x_test)))"
   ]
  },
  {
   "cell_type": "markdown",
   "metadata": {},
   "source": [
    "#### 1] Logistic Regression :"
   ]
  },
  {
   "cell_type": "code",
   "execution_count": null,
   "metadata": {
    "execution": {
     "iopub.execute_input": "2022-10-25T12:55:16.714116Z",
     "iopub.status.busy": "2022-10-25T12:55:16.713744Z",
     "iopub.status.idle": "2022-10-25T12:55:16.728525Z",
     "shell.execute_reply": "2022-10-25T12:55:16.727153Z",
     "shell.execute_reply.started": "2022-10-25T12:55:16.714083Z"
    }
   },
   "outputs": [],
   "source": [
    "from sklearn.linear_model import LogisticRegression"
   ]
  },
  {
   "cell_type": "code",
   "execution_count": null,
   "metadata": {
    "execution": {
     "iopub.execute_input": "2022-10-25T12:55:16.730561Z",
     "iopub.status.busy": "2022-10-25T12:55:16.730146Z",
     "iopub.status.idle": "2022-10-25T12:55:16.739138Z",
     "shell.execute_reply": "2022-10-25T12:55:16.738002Z",
     "shell.execute_reply.started": "2022-10-25T12:55:16.730523Z"
    }
   },
   "outputs": [],
   "source": [
    "classifier_lr = LogisticRegression(random_state = 0,C=10,penalty= 'l2') "
   ]
  },
  {
   "cell_type": "code",
   "execution_count": null,
   "metadata": {
    "execution": {
     "iopub.execute_input": "2022-10-25T12:55:16.741396Z",
     "iopub.status.busy": "2022-10-25T12:55:16.740766Z",
     "iopub.status.idle": "2022-10-25T12:55:17.311679Z",
     "shell.execute_reply": "2022-10-25T12:55:17.310308Z",
     "shell.execute_reply.started": "2022-10-25T12:55:16.741346Z"
    }
   },
   "outputs": [],
   "source": [
    "model(classifier_lr)"
   ]
  },
  {
   "cell_type": "code",
   "execution_count": null,
   "metadata": {
    "execution": {
     "iopub.execute_input": "2022-10-25T12:55:17.314143Z",
     "iopub.status.busy": "2022-10-25T12:55:17.313409Z",
     "iopub.status.idle": "2022-10-25T12:55:17.579086Z",
     "shell.execute_reply": "2022-10-25T12:55:17.577812Z",
     "shell.execute_reply.started": "2022-10-25T12:55:17.314096Z"
    }
   },
   "outputs": [],
   "source": [
    "model_evaluation(classifier_lr)"
   ]
  },
  {
   "cell_type": "markdown",
   "metadata": {},
   "source": [
    "#### 2] Support Vector Classifier :"
   ]
  },
  {
   "cell_type": "code",
   "execution_count": null,
   "metadata": {
    "execution": {
     "iopub.execute_input": "2022-10-25T12:55:17.580856Z",
     "iopub.status.busy": "2022-10-25T12:55:17.580493Z",
     "iopub.status.idle": "2022-10-25T12:55:17.586716Z",
     "shell.execute_reply": "2022-10-25T12:55:17.585437Z",
     "shell.execute_reply.started": "2022-10-25T12:55:17.580823Z"
    }
   },
   "outputs": [],
   "source": [
    "from sklearn.svm import SVC"
   ]
  },
  {
   "cell_type": "code",
   "execution_count": null,
   "metadata": {
    "execution": {
     "iopub.execute_input": "2022-10-25T12:55:17.595401Z",
     "iopub.status.busy": "2022-10-25T12:55:17.594968Z",
     "iopub.status.idle": "2022-10-25T12:55:17.601449Z",
     "shell.execute_reply": "2022-10-25T12:55:17.600178Z",
     "shell.execute_reply.started": "2022-10-25T12:55:17.595363Z"
    }
   },
   "outputs": [],
   "source": [
    "classifier_svc = SVC(kernel = 'linear',C = 0.1)"
   ]
  },
  {
   "cell_type": "code",
   "execution_count": null,
   "metadata": {
    "execution": {
     "iopub.execute_input": "2022-10-25T12:55:17.604166Z",
     "iopub.status.busy": "2022-10-25T12:55:17.603714Z",
     "iopub.status.idle": "2022-10-25T12:55:18.221425Z",
     "shell.execute_reply": "2022-10-25T12:55:18.219994Z",
     "shell.execute_reply.started": "2022-10-25T12:55:17.604130Z"
    }
   },
   "outputs": [],
   "source": [
    "model(classifier_svc)"
   ]
  },
  {
   "cell_type": "code",
   "execution_count": null,
   "metadata": {
    "execution": {
     "iopub.execute_input": "2022-10-25T12:55:18.223187Z",
     "iopub.status.busy": "2022-10-25T12:55:18.222812Z",
     "iopub.status.idle": "2022-10-25T12:55:18.491403Z",
     "shell.execute_reply": "2022-10-25T12:55:18.489695Z",
     "shell.execute_reply.started": "2022-10-25T12:55:18.223154Z"
    }
   },
   "outputs": [],
   "source": [
    "model_evaluation(classifier_svc)"
   ]
  },
  {
   "cell_type": "markdown",
   "metadata": {},
   "source": [
    "#### 3] Decision Tree Classifier :"
   ]
  },
  {
   "cell_type": "code",
   "execution_count": null,
   "metadata": {
    "execution": {
     "iopub.execute_input": "2022-10-25T12:55:18.493789Z",
     "iopub.status.busy": "2022-10-25T12:55:18.493372Z",
     "iopub.status.idle": "2022-10-25T12:55:18.529520Z",
     "shell.execute_reply": "2022-10-25T12:55:18.528493Z",
     "shell.execute_reply.started": "2022-10-25T12:55:18.493750Z"
    }
   },
   "outputs": [],
   "source": [
    "from sklearn.tree import DecisionTreeClassifier"
   ]
  },
  {
   "cell_type": "code",
   "execution_count": null,
   "metadata": {
    "execution": {
     "iopub.execute_input": "2022-10-25T12:55:18.531423Z",
     "iopub.status.busy": "2022-10-25T12:55:18.530706Z",
     "iopub.status.idle": "2022-10-25T12:55:18.536720Z",
     "shell.execute_reply": "2022-10-25T12:55:18.535441Z",
     "shell.execute_reply.started": "2022-10-25T12:55:18.531380Z"
    }
   },
   "outputs": [],
   "source": [
    "classifier_dt = DecisionTreeClassifier(random_state = 1000,max_depth = 4,min_samples_leaf = 1)"
   ]
  },
  {
   "cell_type": "code",
   "execution_count": null,
   "metadata": {
    "execution": {
     "iopub.execute_input": "2022-10-25T12:55:18.539495Z",
     "iopub.status.busy": "2022-10-25T12:55:18.538388Z",
     "iopub.status.idle": "2022-10-25T12:55:18.906163Z",
     "shell.execute_reply": "2022-10-25T12:55:18.904640Z",
     "shell.execute_reply.started": "2022-10-25T12:55:18.539452Z"
    }
   },
   "outputs": [],
   "source": [
    "model(classifier_dt)"
   ]
  },
  {
   "cell_type": "code",
   "execution_count": null,
   "metadata": {
    "execution": {
     "iopub.execute_input": "2022-10-25T12:55:18.910787Z",
     "iopub.status.busy": "2022-10-25T12:55:18.909969Z",
     "iopub.status.idle": "2022-10-25T12:55:19.165327Z",
     "shell.execute_reply": "2022-10-25T12:55:19.164258Z",
     "shell.execute_reply.started": "2022-10-25T12:55:18.910746Z"
    }
   },
   "outputs": [],
   "source": [
    "model_evaluation(classifier_dt)"
   ]
  },
  {
   "cell_type": "markdown",
   "metadata": {},
   "source": [
    "#### 4] Random Forest Classifier :"
   ]
  },
  {
   "cell_type": "code",
   "execution_count": null,
   "metadata": {
    "execution": {
     "iopub.execute_input": "2022-10-25T12:55:19.167522Z",
     "iopub.status.busy": "2022-10-25T12:55:19.166673Z",
     "iopub.status.idle": "2022-10-25T12:55:19.240114Z",
     "shell.execute_reply": "2022-10-25T12:55:19.238804Z",
     "shell.execute_reply.started": "2022-10-25T12:55:19.167476Z"
    }
   },
   "outputs": [],
   "source": [
    "from sklearn.ensemble import RandomForestClassifier"
   ]
  },
  {
   "cell_type": "code",
   "execution_count": null,
   "metadata": {
    "execution": {
     "iopub.execute_input": "2022-10-25T12:55:19.241786Z",
     "iopub.status.busy": "2022-10-25T12:55:19.241441Z",
     "iopub.status.idle": "2022-10-25T12:55:19.248641Z",
     "shell.execute_reply": "2022-10-25T12:55:19.246793Z",
     "shell.execute_reply.started": "2022-10-25T12:55:19.241755Z"
    }
   },
   "outputs": [],
   "source": [
    "classifier_rf = RandomForestClassifier(max_depth = 4,random_state = 0)"
   ]
  },
  {
   "cell_type": "code",
   "execution_count": null,
   "metadata": {
    "execution": {
     "iopub.execute_input": "2022-10-25T12:55:19.250365Z",
     "iopub.status.busy": "2022-10-25T12:55:19.250012Z",
     "iopub.status.idle": "2022-10-25T12:55:25.225949Z",
     "shell.execute_reply": "2022-10-25T12:55:25.224647Z",
     "shell.execute_reply.started": "2022-10-25T12:55:19.250334Z"
    }
   },
   "outputs": [],
   "source": [
    "model(classifier_rf)"
   ]
  },
  {
   "cell_type": "code",
   "execution_count": null,
   "metadata": {
    "execution": {
     "iopub.execute_input": "2022-10-25T12:55:25.228385Z",
     "iopub.status.busy": "2022-10-25T12:55:25.227627Z",
     "iopub.status.idle": "2022-10-25T12:55:25.517690Z",
     "shell.execute_reply": "2022-10-25T12:55:25.516090Z",
     "shell.execute_reply.started": "2022-10-25T12:55:25.228337Z"
    }
   },
   "outputs": [],
   "source": [
    "model_evaluation(classifier_rf)"
   ]
  },
  {
   "cell_type": "markdown",
   "metadata": {},
   "source": [
    "#### 5] K-nearest Neighbors Classifier :"
   ]
  },
  {
   "cell_type": "code",
   "execution_count": null,
   "metadata": {
    "execution": {
     "iopub.execute_input": "2022-10-25T12:55:25.520389Z",
     "iopub.status.busy": "2022-10-25T12:55:25.519964Z",
     "iopub.status.idle": "2022-10-25T12:55:25.527569Z",
     "shell.execute_reply": "2022-10-25T12:55:25.525884Z",
     "shell.execute_reply.started": "2022-10-25T12:55:25.520354Z"
    }
   },
   "outputs": [],
   "source": [
    "from sklearn.neighbors import KNeighborsClassifier"
   ]
  },
  {
   "cell_type": "code",
   "execution_count": null,
   "metadata": {
    "execution": {
     "iopub.execute_input": "2022-10-25T12:55:25.529418Z",
     "iopub.status.busy": "2022-10-25T12:55:25.529014Z",
     "iopub.status.idle": "2022-10-25T12:55:25.540401Z",
     "shell.execute_reply": "2022-10-25T12:55:25.539152Z",
     "shell.execute_reply.started": "2022-10-25T12:55:25.529386Z"
    }
   },
   "outputs": [],
   "source": [
    "classifier_knn = KNeighborsClassifier(leaf_size = 1, n_neighbors = 3,p = 1)"
   ]
  },
  {
   "cell_type": "code",
   "execution_count": null,
   "metadata": {
    "execution": {
     "iopub.execute_input": "2022-10-25T12:55:25.543452Z",
     "iopub.status.busy": "2022-10-25T12:55:25.542348Z",
     "iopub.status.idle": "2022-10-25T12:55:26.038532Z",
     "shell.execute_reply": "2022-10-25T12:55:26.037169Z",
     "shell.execute_reply.started": "2022-10-25T12:55:25.543400Z"
    }
   },
   "outputs": [],
   "source": [
    "model(classifier_knn)"
   ]
  },
  {
   "cell_type": "code",
   "execution_count": null,
   "metadata": {
    "execution": {
     "iopub.execute_input": "2022-10-25T12:55:26.041435Z",
     "iopub.status.busy": "2022-10-25T12:55:26.040205Z",
     "iopub.status.idle": "2022-10-25T12:55:26.328571Z",
     "shell.execute_reply": "2022-10-25T12:55:26.327129Z",
     "shell.execute_reply.started": "2022-10-25T12:55:26.041377Z"
    }
   },
   "outputs": [],
   "source": [
    "model_evaluation(classifier_knn)"
   ]
  },
  {
   "cell_type": "markdown",
   "metadata": {},
   "source": [
    "### Alogrithm Results Table :\n",
    "\n",
    "\n",
    "|Sr. No.|ML Algorithm|Accuracy|Cross Validation Score|ROC AUC Score|\n",
    "|-|-|-|-|-|\n",
    "|1|Logistic Regression|87.50%|91.12%|87.43%|\n",
    "|2|Support Vector Classifier|87.50%|90.53%|87.43%|\n",
    "|3|Decision Tree Classifier|84.78%|89.09%|84.62%|\n",
    "|4|Random Forest Classifier|84.24%|92.91%|84.06%|\n",
    "|5|K-Nearest Neighbors Classfier|81.52%|89.34%|81.36%|"
   ]
  },
  {
   "cell_type": "markdown",
   "metadata": {},
   "source": [
    "# <center><div style=\"font-family: Trebuchet MS; background-color: #F93822; color: #FDD20E; padding: 12px; line-height: 1;\">Conclusion</div></center>\n",
    "\n",
    "- This dataset is great for understanding how to handle binary classification problems with the combination of numerical and categorical features.\n",
    "\n",
    "\n",
    "- Subject matter experts, in this case doctors or nurses, can be assisted by providing insights that enables them to take the next line of action.\n",
    "\n",
    "\n",
    "- For feature engineering, it might feel confusing about the order of the processes. In this case, data scaling was executed before the feature selection test. We might feel like we are tampering the data before passing it to the tests but the results are same irrespective of the order of the process. (Try it out!)\n",
    "\n",
    "\n",
    "- For this problem, outlier detection was not done as I was not able to read any papers about heart diseases. It becomes a pivotal part to understand the subject before removing outliers even though the outlier detection tests come out positive.\n",
    "\n",
    "\n",
    "- Visualization is key. It makes the data talkative. Displaying the present information and results of any tests or output through visualization becomes crucial as it makes the understanding easy.\n",
    "\n",
    "\n",
    "- For modeling, hyperparameter tuning is not done. It can push the performances of the algorithms. Overall the algorithm performances are good."
   ]
  }
 ],
 "metadata": {
  "kernelspec": {
   "display_name": "Python 3 (ipykernel)",
   "language": "python",
   "name": "python3"
  },
  "language_info": {
   "codemirror_mode": {
    "name": "ipython",
    "version": 3
   },
   "file_extension": ".py",
   "mimetype": "text/x-python",
   "name": "python",
   "nbconvert_exporter": "python",
   "pygments_lexer": "ipython3",
   "version": "3.11.5"
  }
 },
 "nbformat": 4,
 "nbformat_minor": 4
}
